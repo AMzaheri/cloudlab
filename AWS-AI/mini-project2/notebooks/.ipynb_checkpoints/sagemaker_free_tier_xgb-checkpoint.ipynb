{
 "cells": [
  {
   "cell_type": "markdown",
   "id": "85f4c97b-4f7c-4e7b-bd53-9ccc9a125e9a",
   "metadata": {},
   "source": [
    "# SageMaker Experiments (Free-Tier, Notebooks optional)\n",
    "\n",
    "This notebook is an **illustrative companion** to the CLI scripts in this mini-project. Its purpose is to make the workflow easy to read, reproduce, and present:\n",
    "\n",
    "- Load a small tabular dataset\n",
    "- Train a lightweight XGBoost model locally (inside the notebook kernel)\n",
    "- Run a tiny, manual hyper-parameter search\n",
    "- Save model and metrics as artefacts in Amazon S3\n",
    "- Keep everything within the AWS Free Tier\n",
    "\n",
    "You can run **either** the CLI scripts **or** this notebook. The notebook is included mainly for storytelling.\n",
    "\n",
    "## How to use this notebook\n",
    "\n",
    "1. **Set environment variables** in the first code cell:\n"
   ]
  },
  {
   "cell_type": "code",
   "execution_count": 2,
   "id": "f6e447b6-9185-4fa9-8a3b-e0e7ddfea492",
   "metadata": {},
   "outputs": [],
   "source": [
    "import os\n",
    "os.environ[\"AWS_REGION\"]=\"eu-west-2\"\n",
    "os.environ[\"PROJECT\"]=\"mini-project2\"\n",
    "os.environ[\"BUCKET\"]=  \"<your-existing-bucket-name>\"\n",
    "os.environ[\"S3_PREFIX\"]=\"mini-project2\""
   ]
  },
  {
   "cell_type": "markdown",
   "id": "756cd86e-8460-4664-b682-b8fd53419339",
   "metadata": {},
   "source": [
    "2. **(Optional) Install dependencies** in-notebook if your kernel doesn’t already have them:"
   ]
  },
  {
   "cell_type": "code",
   "execution_count": null,
   "id": "7991c3c3-de34-494a-8003-eee246e3f149",
   "metadata": {},
   "outputs": [],
   "source": [
    "# !pip install -r ../requirements.txt"
   ]
  },
  {
   "cell_type": "markdown",
   "id": "d099a649-a514-4442-bff6-ca8a08b63ce9",
   "metadata": {},
   "source": [
    "3. **Run the training and mini-HPO sections**. They mirror the CLI scripts and will upload:\n",
    "   - `artifacts/model.joblib`\n",
    "   - `metrics/metrics.json`\n",
    "   - `metrics/hpo_summary.json`\n",
    "under `s3://$BUCKET/$S3_PREFIX/...`"
   ]
  },
  {
   "cell_type": "markdown",
   "id": "9fe6c90b-c203-4e38-81f9-6401a4bea7fb",
   "metadata": {},
   "source": [
    "## Run order and what each step does\n",
    "\n",
    "This notebook is for demonstration as well as results. We run a simple baseline first, then a tiny hyper-parameter search.\n",
    "\n",
    "1) **Baseline training (`train_local.py`)**  \n",
    "   - Trains one small XGBoost model and uploads:\n",
    "     - `s3://$BUCKET/$S3_PREFIX/artifacts/model.joblib`\n",
    "     - `s3://$BUCKET/$S3_PREFIX/metrics/metrics.json`  \n",
    "   - Recommended first for a clean “before HPO” reference (but not strictly required).\n",
    "\n",
    "2) **Mini HPO (`hpo_loop.py --trials 5`)**  \n",
    "   - Runs a handful of short trials to explore hyper-parameters.  \n",
    "   - Saves a summary with the best trial to:\n",
    "     - `s3://$BUCKET/$S3_PREFIX/metrics/hpo_summary.json`  \n",
    "   - You can run this on its own if you only want the HPO results.\n",
    "\n",
    "**Now run:**"
   ]
  },
  {
   "cell_type": "markdown",
   "id": "e0681ea8-6f59-4cad-bc98-3b6434d29098",
   "metadata": {},
   "source": [
    "## Inspect outputs in S3\n",
    "\n",
    "The scripts upload artefacts and metrics under `s3://$BUCKET/$S3_PREFIX/...`."
   ]
  },
  {
   "cell_type": "code",
   "execution_count": null,
   "id": "06ed61b5-677a-49f1-8283-49ebe921848d",
   "metadata": {},
   "outputs": [],
   "source": [
    "# Quick peek at metrics:\n",
    "!aws s3 cp \"s3://$BUCKET/$S3_PREFIX/metrics/metrics.json\" -\n",
    "!aws s3 cp \"s3://$BUCKET/$S3_PREFIX/metrics/hpo_summary.json\" - || true\n"
   ]
  },
  {
   "cell_type": "markdown",
   "id": "20ad16e3-1f98-4792-8962-97c528064f25",
   "metadata": {},
   "source": [
    "## Costs Control\n",
    "- Use a CPU kernel only; avoid creating endpoints.\n",
    "- If you open this in SageMaker Studio, shut down the JupyterLab space when finished.\n",
    "- Keep data small and trials modest; this notebook is designed for zero spend."
   ]
  },
  {
   "cell_type": "markdown",
   "id": "b8b298ba-d66a-465a-bf8e-4b0ddf978dda",
   "metadata": {},
   "source": [
    "## Teardown (only this project’s data)\n",
    "To remove just this project’s artefacts and metrics while keeping the bucket for future work:"
   ]
  },
  {
   "cell_type": "code",
   "execution_count": null,
   "id": "8f73edd2-cb03-4d22-94ba-80891ed6f8ae",
   "metadata": {},
   "outputs": [],
   "source": [
    "!aws s3 rm \"s3://$BUCKET/$S3_PREFIX\" --recursive\n",
    "# If you'd like to preview what would be deleted first:\n",
    "# aws s3 rm \"s3://$BUCKET/$S3_PREFIX\" --recursive --dryrun"
   ]
  },
  {
   "cell_type": "code",
   "execution_count": 13,
   "id": "11fd9467-bbd6-47f3-8eb8-0e6a85630cb2",
   "metadata": {},
   "outputs": [
    {
     "name": "stdout",
     "output_type": "stream",
     "text": [
      "\n",
      "Total Objects: 0\n",
      "   Total Size: 0 Bytes\n"
     ]
    }
   ],
   "source": [
    "# Check what’s inside the bucket right now:\n",
    "!aws s3 ls s3://$BUCKET/ --human-readable --summarize"
   ]
  }
 ],
 "metadata": {
  "kernelspec": {
   "display_name": "Python 3 (ipykernel)",
   "language": "python",
   "name": "python3"
  },
  "language_info": {
   "codemirror_mode": {
    "name": "ipython",
    "version": 3
   },
   "file_extension": ".py",
   "mimetype": "text/x-python",
   "name": "python",
   "nbconvert_exporter": "python",
   "pygments_lexer": "ipython3",
   "version": "3.9.6"
  }
 },
 "nbformat": 4,
 "nbformat_minor": 5
}
